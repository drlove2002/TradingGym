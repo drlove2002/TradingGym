{
 "cells": [
  {
   "cell_type": "code",
   "execution_count": 1,
   "id": "ed38625b",
   "metadata": {},
   "outputs": [],
   "source": [
    "import os\n",
    "import pandas as pd\n",
    "\n",
    "ROOT_DIR = \"/home/love/Documents/TradingGym/trading_gym\"\n",
    "data_path = ROOT_DIR + \"/data/reliance.csv\""
   ]
  },
  {
   "cell_type": "code",
   "execution_count": null,
   "id": "ba862602",
   "metadata": {},
   "outputs": [],
   "source": []
  }
 ],
 "metadata": {
  "kernelspec": {
   "display_name": "Python 3 (ipykernel)",
   "language": "python",
   "name": "python3"
  },
  "language_info": {
   "codemirror_mode": {
    "name": "ipython",
    "version": 3
   },
   "file_extension": ".py",
   "mimetype": "text/x-python",
   "name": "python",
   "nbconvert_exporter": "python",
   "pygments_lexer": "ipython3",
   "version": "3.9.13"
  }
 },
 "nbformat": 4,
 "nbformat_minor": 5
}
